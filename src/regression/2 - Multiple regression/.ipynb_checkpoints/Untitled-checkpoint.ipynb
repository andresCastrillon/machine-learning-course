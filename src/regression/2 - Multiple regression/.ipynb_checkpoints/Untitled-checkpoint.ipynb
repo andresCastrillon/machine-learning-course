{
 "cells": [
  {
   "cell_type": "code",
   "execution_count": null,
   "id": "82246e59-57e8-4736-94ca-4bb86750dcac",
   "metadata": {},
   "outputs": [],
   "source": []
  }
 ],
 "metadata": {
  "kernelspec": {
   "display_name": "Python 3 (ipykernel)",
   "language": "python",
   "name": "python3"
  },
  "language_info": {
   "codemirror_mode": {
    "name": "ipython",
    "version": 3
   },
   "file_extension": ".py",
   "mimetype": "text/x-python",
   "name": "python",
   "nbconvert_exporter": "python",
   "pygments_lexer": "ipython3",
   "version": "3.11.6"
  }
 },
 "nbformat": 4,
 "nbformat_minor": 5
}
